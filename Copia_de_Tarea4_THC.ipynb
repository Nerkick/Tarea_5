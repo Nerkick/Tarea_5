{
  "nbformat": 4,
  "nbformat_minor": 0,
  "metadata": {
    "colab": {
      "provenance": [],
      "include_colab_link": true
    },
    "kernelspec": {
      "name": "python3",
      "display_name": "Python 3"
    },
    "language_info": {
      "name": "python"
    }
  },
  "cells": [
    {
      "cell_type": "markdown",
      "metadata": {
        "id": "view-in-github",
        "colab_type": "text"
      },
      "source": [
        "<a href=\"https://colab.research.google.com/github/Nerkick/Tarea_5/blob/main/Copia_de_Tarea4_THC.ipynb\" target=\"_parent\"><img src=\"https://colab.research.google.com/assets/colab-badge.svg\" alt=\"Open In Colab\"/></a>"
      ]
    },
    {
      "cell_type": "markdown",
      "source": [
        "<font color=\"Red\" face=\"Comic Sans MS,arial\">\n",
        "  <h1 align=\"center\"><i>Tarea 4 de Python </i></h1>\n",
        "  </font>\n",
        "  \n",
        "> Elaborado por:\n",
        "\n",
        "> Miguel Ángel Carrillo Lucía. miguelcarrillo15@ciencias.unam.mx\n",
        "\n",
        "> Jesús Iván Coss Calderón. mat_ing_coss@ciencias.unam.mx"
      ],
      "metadata": {
        "id": "Acw5GbRohNTA"
      }
    },
    {
      "cell_type": "markdown",
      "source": [
        "**Objetivo general**\n",
        "\n",
        "* Demostrar los conocimientos adquiridos de bucles, listas y estructuras de control.\n",
        "\n",
        "**Objetivos particulares**\n",
        "\n",
        "* Aprender a resolver problemas prácticos usando python"
      ],
      "metadata": {
        "id": "-4IW6Nx2jBHt"
      }
    },
    {
      "cell_type": "markdown",
      "source": [
        "#**Ejercicio 1**:\n",
        "Diseña un programa que convierta dólares americanos a pesos mexicanos, euros, libras\n",
        "esterlinas, yuanes y rublos utilizando una tasa de cambio fija. Muestre la tasa de cambio e imprima los cinco resultados.\n"
      ],
      "metadata": {
        "id": "QZ7aCHF0TYtT"
      }
    },
    {
      "cell_type": "code",
      "source": [
        "def convertir_dolares(cantidad_dolares):\n",
        "\n",
        "\n",
        "  tasa_peso_mexicano = 19.92\n",
        "  tasa_euro = 0.92\n",
        "  tasa_libra_esterlina = 0.77\n",
        "  tasa_yuan = 7.10\n",
        "  tasa_rublo = 95.88\n",
        "\n",
        "  pesos_mexicanos = cantidad_dolares * tasa_peso_mexicano\n",
        "  euros = cantidad_dolares * tasa_euro\n",
        "  libras_esterlinas = cantidad_dolares * tasa_libra_esterlina\n",
        "  yuanes = cantidad_dolares * tasa_yuan\n",
        "  rublos = cantidad_dolares * tasa_rublo\n",
        "\n",
        "  resultados = {\n",
        "      \"Pesos Mexicanos\": pesos_mexicanos,\n",
        "      \"Euros\": euros,\n",
        "      \"Libras Esterlinas\": libras_esterlinas,\n",
        "      \"Yuanes\": yuanes,\n",
        "      \"Rublos\": rublos,\n",
        "  }\n",
        "\n",
        "  return resultados\n",
        "\n",
        "\n",
        "cantidad_dolares = float(input(\"Ingrese la cantidad de dólares americanos: \"))\n",
        "\n",
        "\n",
        "resultados_conversion = convertir_dolares(cantidad_dolares)\n",
        "\n",
        "\n",
        "print(\"\\nTasa de cambio:\")\n",
        "print(\"- Peso Mexicano: 1 USD = 19.92  MXN\")\n",
        "print(\"- Euro: 1 USD = 0.92 EUR\")\n",
        "print(\"- Libra Esterlina: 1 USD = 0.77 GBP\")\n",
        "print(\"- Yuan: 1 USD = 7.10 CNY\")\n",
        "print(\"- Rublo: 1 USD = 95.88 RUB\")\n",
        "print(\"\\nResultados de la conversión:\")\n",
        "for moneda, cantidad in resultados_conversion.items():\n",
        "  print(f\"- {moneda}: {cantidad}\")\n"
      ],
      "metadata": {
        "id": "TBR-3raL8Epc",
        "colab": {
          "base_uri": "https://localhost:8080/"
        },
        "outputId": "156dc329-7543-426f-b84a-032171062e4b"
      },
      "execution_count": null,
      "outputs": [
        {
          "output_type": "stream",
          "name": "stdout",
          "text": [
            "Ingrese la cantidad de dólares americanos: 5\n",
            "\n",
            "Tasa de cambio:\n",
            "- Peso Mexicano: 1 USD = 17.00 MXN\n",
            "- Euro: 1 USD = 0.90 EUR\n",
            "- Libra Esterlina: 1 USD = 0.80 GBP\n",
            "- Yuan: 1 USD = 7.00 CNY\n",
            "- Rublo: 1 USD = 75.00 RUB\n",
            "\n",
            "Resultados de la conversión:\n",
            "- Pesos Mexicanos: 99.60000000000001\n",
            "- Euros: 4.6000000000000005\n",
            "- Libras Esterlinas: 3.85\n",
            "- Yuanes: 35.5\n",
            "- Rublos: 479.4\n"
          ]
        }
      ]
    },
    {
      "cell_type": "markdown",
      "source": [
        "#**Ejercicio 2**:\n",
        "Escribe un programa que pida al usuario su edad y clasifique la entrada en 'niño',\n",
        " 'adolescente', 'adulto' o 'adulto mayor'."
      ],
      "metadata": {
        "id": "G-aCihICT7hi"
      }
    },
    {
      "cell_type": "code",
      "source": [
        "def clasificar_edad(edad):\n",
        "\n",
        "  if edad < 13:\n",
        "    return \"niño\"\n",
        "  elif edad < 18:\n",
        "    return \"adolescente\"\n",
        "  elif edad < 65:\n",
        "    return \"adulto\"\n",
        "  else:\n",
        "    return \"anciano \"\n",
        "\n",
        "edad = int(input(\"Ingresar edad: \"))\n",
        "\n",
        "clasificacion = clasificar_edad(edad)\n",
        "print(\"Usted es \", clasificacion)"
      ],
      "metadata": {
        "id": "LeEsrq4p8FOs",
        "colab": {
          "base_uri": "https://localhost:8080/"
        },
        "outputId": "21d48345-96ea-4e96-b4f7-4d7e225e1cb1"
      },
      "execution_count": null,
      "outputs": [
        {
          "output_type": "stream",
          "name": "stdout",
          "text": [
            "Ingresar edad: 68\n",
            "Usted es  adulto mayor\n"
          ]
        }
      ]
    },
    {
      "cell_type": "markdown",
      "source": [
        "#**Ejercicio 3**:\n",
        "Desarrolla un programa que calcule el precio final de un producto después de aplicar un descuento.\n",
        " El usuario debe ingresar el precio original y el porcentaje de descuento. Imprima el precio final."
      ],
      "metadata": {
        "id": "oM_h9APNTIW9"
      }
    },
    {
      "cell_type": "code",
      "source": [
        "precio_original = float(input(\"precio del producto: \"))\n",
        "porcentaje_descuento = float(input(\" descuento: \"))\n",
        "\n",
        "descuento = precio_original * (porcentaje_descuento / 100)\n",
        "precio_final = precio_original - descuento\n",
        "\n",
        "print(\"precio final :\", precio_final)"
      ],
      "metadata": {
        "id": "ay0KWLXf8F5k"
      },
      "execution_count": null,
      "outputs": []
    },
    {
      "cell_type": "markdown",
      "source": [
        "#**Ejercicio 4**:\n",
        "Crea un script que determine cuál de tres números introducidos por el usuario es el mayor,\n",
        "usando sentencias IF anidadas o múltiples ELIF."
      ],
      "metadata": {
        "id": "pXTw_US7UIhy"
      }
    },
    {
      "cell_type": "code",
      "source": [
        "numero1 = float(input(\"primer número: \"))\n",
        "numero2 = float(input(segundo número: \"))\n",
        "numero3 = float(input(\"tercer número: \"))\n",
        "\n",
        "\n",
        "if numero1 >= numero2:\n",
        "  if numero1 >= numero3:\n",
        "    mayor = numero1\n",
        "  else:\n",
        "    mayor = numero3\n",
        "else:\n",
        "  if numero2 >= numero3:\n",
        "    mayor = numero2\n",
        "  else:\n",
        "    mayor = numero3\n",
        "\n",
        "# Imprimir el número mayor\n",
        "print(\"El número mayor es:\", mayor)"
      ],
      "metadata": {
        "id": "oSJXRXBb8Gck"
      },
      "execution_count": null,
      "outputs": []
    },
    {
      "cell_type": "markdown",
      "source": [
        "#**Ejercicio 5**:\n",
        "Programe una función que resuelva ecuaciones de segundo grado utilizando la fórmula general.\n",
        "El usuario debe ingresar los valores de a, b y c. Genere valores por default por si el usuario no ingresa\n",
        "un número entero o flotante. Además, calcule el valor del discriminante\n",
        "(b^2 - 4ac) y determine si tiene soluciones reales, soluciones complejas. Imprima el resultado."
      ],
      "metadata": {
        "id": "LJgQNYz1Tmaj"
      }
    },
    {
      "cell_type": "code",
      "source": [],
      "metadata": {
        "id": "L1CQPnlC8G9c"
      },
      "execution_count": null,
      "outputs": []
    },
    {
      "cell_type": "markdown",
      "source": [
        "#**Ejercicio 6**\n",
        "\n",
        " Escriba una función que reciba una lista de números y devuelva dos listas: una con los números positivos y otra con los negativos."
      ],
      "metadata": {
        "id": "1VC6sG1wix_2"
      }
    },
    {
      "cell_type": "code",
      "source": [
        "def lista_numeros(lista):\n",
        "\n",
        "    positivos = []\n",
        "    negativos = []\n",
        "\n",
        "\n",
        "    for numero in lista:\n",
        "        if numero > 0:\n",
        "            positivos.append(numero)\n",
        "        elif numero < 0:\n",
        "            negativos.append(numero)\n",
        "\n",
        "\n",
        "    return positivos, negativos\n",
        "\n",
        "\n",
        "numeros = [3, -2, 5, -7, 0, 1, -4, 6]\n",
        "positivos, negativos = lista_numeros(numeros)\n",
        "\n",
        "print(\"Positivos:\", positivos)\n",
        "print(\"Negativos:\", negativos)"
      ],
      "metadata": {
        "id": "j-nKpLKG8HdU",
        "colab": {
          "base_uri": "https://localhost:8080/"
        },
        "outputId": "b1fe9924-5393-481e-d48b-0e028b64c603"
      },
      "execution_count": null,
      "outputs": [
        {
          "output_type": "stream",
          "name": "stdout",
          "text": [
            "Positivos: [3, 5, 1, 6]\n",
            "Negativos: [-2, -7, -4]\n"
          ]
        }
      ]
    },
    {
      "cell_type": "markdown",
      "source": [
        "#**Ejercicio 7**\n",
        "\n",
        "Escriba una función que reciba una lista de datos (la de abajo) y devuelva listas con los datos filtrados. Este programa debe separar los datos en **int**, **str**, **bool**, **float**. **Hint**: use la función **append** para insertar datos en las listas."
      ],
      "metadata": {
        "id": "B3DOqZgpjxMf"
      }
    },
    {
      "cell_type": "code",
      "source": [
        "Datos= [5, 2.4, \"hola\", 7, 10, 3.14,True,False, \"Hi\", 0, 0.265]# lista a usar"
      ],
      "metadata": {
        "id": "5zQMRLNYis12"
      },
      "execution_count": null,
      "outputs": []
    },
    {
      "cell_type": "code",
      "source": [
        "def separar_datos(datos):\n",
        "    int_list = []\n",
        "    str_list = []\n",
        "    bool_list = []\n",
        "    float_list = []\n",
        "\n",
        "    for item in datos:\n",
        "        if isinstance(item, int) and not isinstance(item, bool):  # Evitar que bool se clasifique como int\n",
        "            int_list.append(item)\n",
        "        elif isinstance(item, str):\n",
        "            str_list.append(item)\n",
        "        elif isinstance(item, bool):\n",
        "            bool_list.append(item)\n",
        "        elif isinstance(item, float):\n",
        "            float_list.append(item)\n",
        "\n",
        "   return int_list, str_list, bool_list, float_list\n",
        "\n",
        "\n",
        "datos = [5, 2.4, \"hola\", 7, 10, 3.14, True, False, \"Hi\", 0, 0.265]\n",
        "\n",
        "int_list, str_list, bool_list, float_list = separar_datos(datos)\n",
        "print(\"Ints:\", int_list)\n",
        "print(\"Strings:\", str_list)\n",
        "print(\"Booleans:\", bool_list)\n",
        "print(\"Floats:\", float_list)"
      ],
      "metadata": {
        "id": "0HH0Debs8Joc"
      },
      "execution_count": null,
      "outputs": []
    },
    {
      "cell_type": "markdown",
      "source": [
        "#**Ejercicio 8**:\n",
        "\n",
        "Imprimir pirámide de asteriscos\n",
        "Descripción: Crea una función que imprima una pirámide de asteriscos usando bucles anidados, donde el número de niveles de la pirámide sea un valor dado."
      ],
      "metadata": {
        "id": "Q7XYGpfGkuD4"
      }
    },
    {
      "cell_type": "code",
      "source": [
        "def piramide_asteriscos(niveles):\n",
        "\n",
        "piramide_asteriscos(5)\n",
        "# Resultado:\n",
        "# *\n",
        "# **\n",
        "# ***\n",
        "# ****\n",
        "# *****\n"
      ],
      "metadata": {
        "colab": {
          "base_uri": "https://localhost:8080/"
        },
        "id": "lKlZ67KRkXwn",
        "outputId": "78bd0f90-baf8-41bc-9243-ffad50b18531"
      },
      "execution_count": null,
      "outputs": [
        {
          "output_type": "stream",
          "name": "stdout",
          "text": [
            "*\n",
            "**\n",
            "***\n",
            "****\n",
            "*****\n"
          ]
        }
      ]
    },
    {
      "cell_type": "code",
      "source": [
        "def imprimir_piramide(niveles):\n",
        "\n",
        "  for i in range(niveles):\n",
        "\n",
        "    print(\" \" * (niveles - i - 1), end=\"\")\n",
        "\n",
        "    print(\"*\" * (2 * i + 1))\n",
        "\n",
        "num_niveles = int(input(\"poner número de niveles para la pirámide: \"))\n",
        "\n",
        "imprimir_piramide(num_niveles)"
      ],
      "metadata": {
        "colab": {
          "base_uri": "https://localhost:8080/"
        },
        "id": "YaM3E3HWQOFH",
        "outputId": "4e5a9642-0dc6-4eea-f9c6-50c7a6450cf0"
      },
      "execution_count": null,
      "outputs": [
        {
          "output_type": "stream",
          "name": "stdout",
          "text": [
            "poner número de niveles para la pirámide: 8\n",
            "       *\n",
            "      ***\n",
            "     *****\n",
            "    *******\n",
            "   *********\n",
            "  ***********\n",
            " *************\n",
            "***************\n"
          ]
        }
      ]
    },
    {
      "cell_type": "markdown",
      "source": [
        "#**Ejercicio 9**:\n",
        "\n",
        "Escriba una función que calcule el factorial de un número, el cual debe ser ingresado por el usuario, después usted debe validar que sea un número natural mayor o igual a cero y en caso de que ingrese un número negativo, una letra o cadena, debe pedir nuevamente el número al usuario."
      ],
      "metadata": {
        "id": "xL6YMsdClOy9"
      }
    },
    {
      "cell_type": "code",
      "source": [
        "def factorial(n):\n",
        "    if n == 0 or n == 1:\n",
        "        return 1\n",
        "    else:\n",
        "        return n * factorial(n - 1)\n",
        "\n",
        "def obtener_numero_natural():\n",
        "    while True:\n",
        "        try:\n",
        "\n",
        "            numero = int(input(\"Ingresa un número natural mayor o igual a 0: \"))\n",
        "            if numero < 0:\n",
        "\n",
        "                print(\"El número no puede ser negativo. ingresar un numero positivo.\")\n",
        "            else:\n",
        "                return numero\n",
        "        except ValueError:\n",
        "\n",
        "            print(\"sintax error. Debes ingresar un número entero.\")\n",
        "\n",
        "\n",
        "if __name__ == \"__main__\":\n",
        "    numero = obtener_numero_natural()\n",
        "    resultado = factorial(numero)\n",
        "    print(f\"El factorial de {numero} es {resultado}.\")"
      ],
      "metadata": {
        "id": "JYhyNp21l43j"
      },
      "execution_count": null,
      "outputs": []
    },
    {
      "cell_type": "markdown",
      "source": [
        "#**Ejercicio 10**:\n",
        "Programar una función que calcule la distancia entre dos puntos en el plano cartesiano,\n",
        "dadas sus coordenadas (x1, y1) y (x2, y2)."
      ],
      "metadata": {
        "id": "8z6e_aduTxWh"
      }
    },
    {
      "cell_type": "code",
      "source": [
        "def distancia_puntos(x1, y1, x2, y2):\n",
        "\n",
        "    distancia_cuadrada = (x2 - x1)**2 + (y2 - y1)**2\n",
        "\n",
        "    distancia = distancia_cuadrada ** 0.5\n",
        "    return distancia\n",
        "\n",
        "\n",
        "x1, y1 = 1, 2\n",
        "x2, y2 = 4, 6\n",
        "\n",
        "distancia = distancia_puntos(x1, y1, x2, y2)\n",
        "print(f\"La distancia entre los puntos ({x1}, {y1}) y ({x2}, {y2}) es: {distancia}\")"
      ],
      "metadata": {
        "id": "rKes7ySm8LJy"
      },
      "execution_count": null,
      "outputs": []
    },
    {
      "cell_type": "markdown",
      "source": [
        "#**Ejercicio 11**:\n",
        "Programe un script que determine si dos rectas dadas por las ecuaciones y1=m1x + b1 y y2=m2x+b2 se\n",
        "intersectan, son paralelas o coincidentes. Utilice estructuras de control (IF - ELSE)\n",
        "para manejar los diferentes casos.\n"
      ],
      "metadata": {
        "id": "YZ1CmeGNUfd6"
      }
    },
    {
      "cell_type": "code",
      "source": [
        "def relacion_rectas(m1, b1, m2, b2):\n",
        "    if m1 == m2:\n",
        "        if b1 == b2:\n",
        "            return \"Las rectas son coincidentes.\"\n",
        "        else:\n",
        "            return \"Las rectas son paralelas.\"\n",
        "    else:\n",
        "        return \"Las rectas se intersectan.\"\n",
        "\n",
        "\n",
        "m1 = float(input(\"Ingrese la pendiente m1 de la primera recta: \"))\n",
        "b1 = float(input(\"Ingrese la intersección b1 de la primera recta: \"))\n",
        "m2 = float(input(\"Ingrese la pendiente m2 de la segunda recta: \"))\n",
        "b2 = float(input(\"Ingrese la intersección b2 de la segunda recta: \"))\n",
        "\n",
        "\n",
        "resultado = relacion_rectas(m1, b1, m2, b2)\n",
        "print(resultado)"
      ],
      "metadata": {
        "id": "oTNVz98W8LuZ"
      },
      "execution_count": null,
      "outputs": []
    },
    {
      "cell_type": "markdown",
      "source": [
        "#**Ejercicio 12**:\n",
        "Iván y Miguel quieren jugar a los dados con las siguientes reglas:\n",
        "\n",
        "    Si sale 1, vuelven a lanzar.\n",
        "    Si sale 6, quedan empatados.\n",
        "    Si sale 2 ó 3 gana Iván.\n",
        "    Si sale 4 ó 5 gana Miguel.\n",
        "\n",
        "Haga un programa que le permita jugar a Iván y Miguel utilizando el condicional while. Se debe imprimir el mensaje de acuerdo a las reglas establecidas.\n",
        "**Hint** = Utilice la librería random para generar los números aleatorios."
      ],
      "metadata": {
        "id": "qdHirPx6I2ib"
      }
    },
    {
      "cell_type": "code",
      "source": [
        "def jugar_dados():\n",
        "    while True:\n",
        "\n",
        "        lanzamiento = random.randint(1, 6)\n",
        "        print(f\"Lanzamiento: {lanzamiento}\")\n",
        "\n",
        "        if lanzamiento == 1:\n",
        "            print(\"Salió 1, vuelven a lanzar.\")\n",
        "        elif lanzamiento == 6:\n",
        "            print(\"Salió 6, quedan empatados.\")\n",
        "\n",
        "        elif lanzamiento in [2, 3]:\n",
        "            print(\"Iván gana.\")\n",
        "\n",
        "        elif lanzamiento in [4, 5]:\n",
        "            print(\"Miguel gana.\")\n",
        "            break\n",
        "\n",
        "jugar_dados()"
      ],
      "metadata": {
        "id": "dDHP_-CG8Nqg"
      },
      "execution_count": null,
      "outputs": []
    }
  ]
}