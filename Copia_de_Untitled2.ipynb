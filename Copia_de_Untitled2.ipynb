{
  "nbformat": 4,
  "nbformat_minor": 0,
  "metadata": {
    "colab": {
      "provenance": [],
      "authorship_tag": "ABX9TyNZHFHZa9xClt8+RZZCi2oV",
      "include_colab_link": true
    },
    "kernelspec": {
      "name": "python3",
      "display_name": "Python 3"
    },
    "language_info": {
      "name": "python"
    }
  },
  "cells": [
    {
      "cell_type": "markdown",
      "metadata": {
        "id": "view-in-github",
        "colab_type": "text"
      },
      "source": [
        "<a href=\"https://colab.research.google.com/github/Nerkick/Tarea_5/blob/main/Copia_de_Untitled2.ipynb\" target=\"_parent\"><img src=\"https://colab.research.google.com/assets/colab-badge.svg\" alt=\"Open In Colab\"/></a>"
      ]
    },
    {
      "cell_type": "code",
      "source": [
        "\n",
        "def suma(a,b):\n",
        "    return a+b\n",
        "\n",
        "def resta(a,b):\n",
        "    return a - b\n",
        "\n",
        "def multi(a,b):\n",
        "    return a * b\n",
        "\n",
        "def division(a,b):\n",
        "    if b == 0:\n",
        "        return \"sintax error\"\n",
        "    return a / b\n",
        "\n",
        "\n",
        "num1 = float(input(\"primer numero \"))\n",
        "num2 = float(input(\"segundo numero: \"))\n",
        "\n",
        "\n",
        "suma_resultado = suma(num1, num2)\n",
        "resta_resultado = resta(num1, num2)\n",
        "multi_resultado = multi(num1, num2)\n",
        "div_resultado = division(num1, num2)\n",
        "\n",
        "\n",
        "print(\"Suma:\", suma_resultado)\n",
        "print(\"resta:\", resta_resultado)\n",
        "print(\"Multiplicacion:\", multi_resultado)\n",
        "print(\"Division:\", div_resultado)"
      ],
      "metadata": {
        "id": "c02klArXMfUa",
        "colab": {
          "base_uri": "https://localhost:8080/"
        },
        "outputId": "8bab9df7-ad1e-485e-f21a-173adc2f2179"
      },
      "execution_count": 1,
      "outputs": [
        {
          "output_type": "stream",
          "name": "stdout",
          "text": [
            "primer numero 5\n",
            "segundo numero: 7\n",
            "Suma: 12.0\n",
            "resta: -2.0\n",
            "Multiplicacion: 35.0\n",
            "Division: 0.7142857142857143\n"
          ]
        }
      ]
    },
    {
      "cell_type": "code",
      "source": [
        "\n",
        "def multiply(a,b):\n",
        "    return a * b\n",
        "\n",
        "def divide(a,b):\n",
        "    if b == 0:\n",
        "        return \"sintax error\"\n",
        "    return a / b\n",
        "\n",
        "\n",
        "\n",
        "base = float(input(\"Ingresa la base del triángulo: \"))\n",
        "altura = float(input(\"Ingresa la altura del triángulo: \"))\n",
        "\n",
        "area = (base * altura) / 2\n",
        "\n",
        "print(\"El área del triángulo es:\", area)"
      ],
      "metadata": {
        "colab": {
          "base_uri": "https://localhost:8080/"
        },
        "id": "3wlvAqMEODkS",
        "outputId": "60953630-974d-43ab-aa1e-1801189ea216"
      },
      "execution_count": 2,
      "outputs": [
        {
          "output_type": "stream",
          "name": "stdout",
          "text": [
            "Ingresa la base del triángulo: 5\n",
            "Ingresa la altura del triángulo: 7\n",
            "El área del triángulo es: 17.5\n"
          ]
        }
      ]
    },
    {
      "cell_type": "code",
      "source": [
        "def contar_palabras(texto):\n",
        "  \"\"\"Cuenta las palabras en una cadena de texto.\"\"\"\n",
        "  contador = 0\n",
        "  palabras = texto.split()\n",
        "  for palabra in palabras:\n",
        "    contador += 1\n",
        "  return contador\n",
        "\n",
        "texto = input(\"ingresa un texto: \")\n",
        "numero_de_palabras = contar_palabras(texto)\n",
        "print(\"El texto contiene\", numero_de_palabras, \"palabras.\")"
      ],
      "metadata": {
        "colab": {
          "base_uri": "https://localhost:8080/"
        },
        "id": "GAkCpnlOQcsy",
        "outputId": "3a8dbcc8-30c4-44ab-c079-1d32e3bc1324"
      },
      "execution_count": 4,
      "outputs": [
        {
          "output_type": "stream",
          "name": "stdout",
          "text": [
            "ingresa un texto: hola yo soy mateo\n",
            "El texto contiene 4 palabras.\n"
          ]
        }
      ]
    },
    {
      "cell_type": "code",
      "source": [
        "celsius = float(input(\"Escriba la temperatura en celsius: \"))\n",
        "fahrenheit = (celsius * 9/5) +32\n",
        "print(f\"La temperatura en fahrenheit es: {fahrenheit}\")"
      ],
      "metadata": {
        "colab": {
          "base_uri": "https://localhost:8080/"
        },
        "id": "FGpMrwVFQziB",
        "outputId": "3ad73cdd-6852-4dcc-e74b-21c737fb5796"
      },
      "execution_count": 7,
      "outputs": [
        {
          "output_type": "stream",
          "name": "stdout",
          "text": [
            "Escriba la temperatura en celsius: 20\n",
            "La temperatura en fahrenheit es: 68.0\n"
          ]
        }
      ]
    },
    {
      "cell_type": "code",
      "source": [
        "import random\n",
        "\n",
        "\n",
        "letras_mayusculas = \"ABCDEFGHIJKLMNOPQRSTUVWXYZ\"\n",
        "letras_minusculas = \"abcdefghijklmnopqrstuvwxyz\"\n",
        "numeros = \"0123456789\"\n",
        "simbolos = \"!@#$%^&*()_+-=[]{};':\\\"|,.<>/?\"\n",
        "\n",
        "def generar_contrasena(longitud):\n",
        "  \"\"\"Genera una contraseña aleatoria con la longitud especificada.\"\"\"\n",
        "\n",
        "  todos_caracteres = letras_mayusculas + letras_minusculas + numeros + simbolos\n",
        "  contrasena = ''.join(random.choice(todos_caracteres) for i in range(longitud))\n",
        "  return contrasena\n",
        "\n",
        "longitud_contrasena = int(input(\"Ingresa la longitud de la contraseña: \"))\n",
        "contrasena = generar_contrasena(longitud_contrasena)\n",
        "print(\"Tu contraseña es:\", contrasena)"
      ],
      "metadata": {
        "colab": {
          "base_uri": "https://localhost:8080/"
        },
        "id": "FoL5XQ8hSCKZ",
        "outputId": "aacce14f-def6-497f-ef88-3705d41bf0dc"
      },
      "execution_count": 8,
      "outputs": [
        {
          "output_type": "stream",
          "name": "stdout",
          "text": [
            "Ingresa la longitud de la contraseña: 5\n",
            "Tu contraseña es: G8UU+\n"
          ]
        }
      ]
    },
    {
      "cell_type": "code",
      "source": [],
      "metadata": {
        "id": "JZ1186h7SpwB"
      },
      "execution_count": null,
      "outputs": []
    },
    {
      "cell_type": "code",
      "source": [
        "# Definimos la tabla de multiplicar que queremos imprimir\n",
        "numero_tabla = 5  # Podemos cambiar este número para generar otra tabla\n",
        "\n",
        "# titulo\n",
        "print(f\"Tabla de multiplicar del {numero_tabla}:\")\n",
        "\n",
        "# ponemos un rango del 1 al 10 para generar la tabla\n",
        "for i in range(1, 11):\n",
        "  # Calculamos el resultado de la multiplicación\n",
        "  resultado = numero_tabla * i\n",
        "  # Imprimimos la operación y el resultado\n",
        "  print(f\"{numero_tabla} x {i} = {resultado}\")"
      ],
      "metadata": {
        "colab": {
          "base_uri": "https://localhost:8080/"
        },
        "id": "BqBtRtRXTych",
        "outputId": "fbf6c48c-cccb-48f1-9ad6-4673c51041ad"
      },
      "execution_count": 15,
      "outputs": [
        {
          "output_type": "stream",
          "name": "stdout",
          "text": [
            "Tabla de multiplicar del 5:\n",
            "5 x 1 = 5\n",
            "5 x 2 = 10\n",
            "5 x 3 = 15\n",
            "5 x 4 = 20\n",
            "5 x 5 = 25\n",
            "5 x 6 = 30\n",
            "5 x 7 = 35\n",
            "5 x 8 = 40\n",
            "5 x 9 = 45\n",
            "5 x 10 = 50\n"
          ]
        }
      ]
    },
    {
      "cell_type": "code",
      "source": [
        "#solucion de la ecuacion ax+b=0\n",
        "a = float(input(\"Ingrese el valor de a: \"))\n",
        "b = float(input(\"Ingrese el valor de b: \"))\n",
        "\n",
        "# Verificar si a es diferente de 0\n",
        "if a != 0:\n",
        "    # Calcular y mostrar la solución\n",
        "    x = -b / a\n",
        "    print(f\"La solución es: x = {x}\")\n",
        "else:\n",
        "    print(\"La ecuación no tiene solución, ya que a = 0.\")"
      ],
      "metadata": {
        "colab": {
          "base_uri": "https://localhost:8080/"
        },
        "id": "-z-OSDJBWRUQ",
        "outputId": "a8f5cc32-63c5-413e-ec8f-d656c49d2c5d"
      },
      "execution_count": 22,
      "outputs": [
        {
          "output_type": "stream",
          "name": "stdout",
          "text": [
            "Ingrese el valor de a: 4\n",
            "Ingrese el valor de b: 5\n",
            "La solución es: x = -1.25\n"
          ]
        }
      ]
    },
    {
      "cell_type": "code",
      "source": [
        "# Programa para verificar si un número es par o impar\n",
        "\n",
        "# Solicitar al usuario que ingrese un número\n",
        "numero = int(input(\"Ingresa un número entero: \"))\n",
        "\n",
        "# Verificar si el número es par o impar\n",
        "if numero % 2 == 0:\n",
        "    print(f\"El número {numero} es par.\")\n",
        "else:\n",
        "    print(f\"El número {numero} es impar.\")"
      ],
      "metadata": {
        "id": "QnGYVmy3a9VD"
      },
      "execution_count": null,
      "outputs": []
    }
  ]
}